{
 "cells": [
  {
   "cell_type": "code",
   "execution_count": null,
   "id": "e08702a6",
   "metadata": {},
   "outputs": [],
   "source": [
    "import matplotlib.pyplot as plot\n",
    "import numpy as np\n",
    "import random\n",
    "import statistics\n",
    "from easier_data import Array2D, Array1D\n",
    "\n",
    "\n",
    "Array: Array2D = Array2D([1, 3, 7], [2, 5, 3])\n",
    "Array.plot()\n",
    "plot.show()"
   ]
  }
 ],
 "metadata": {
  "kernelspec": {
   "display_name": ".venv",
   "language": "python",
   "name": "python3"
  },
  "language_info": {
   "codemirror_mode": {
    "name": "ipython",
    "version": 3
   },
   "file_extension": ".py",
   "mimetype": "text/x-python",
   "name": "python",
   "nbconvert_exporter": "python",
   "pygments_lexer": "ipython3",
   "version": "3.13.3"
  }
 },
 "nbformat": 4,
 "nbformat_minor": 5
}
